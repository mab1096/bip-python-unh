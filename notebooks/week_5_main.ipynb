{
 "cells": [
  {
   "cell_type": "markdown",
   "metadata": {},
   "source": [
    "# Week 4 - Objects, Modules, Pandas and Regular Expressions\n",
    "This week we will review what really makes Python so useful, packages written by others that you can use to do things better, faster, easier. In turn, we will start to discuss how a project can be worked on collaboratively if the code is organized in a way that allows for easy distribution of work. This is done by making your own objects and modules to do repeatable tasks.\n",
    "\n",
    "This week we will work on regular expressions and Pandas. Regular Expressions help to utilize wildcards for handling text to help solve multiple issues at once in cleaning data, while Pandas is the be-all end-all data cleansing and management tool in Python that any analyst has to know to get the most our of Python.\n",
    "\n",
    "I should also point out that much of the regular expressions package is built into Pandas as well. This both illustrates the value of the core package (re - regular expressions), and helps illustrate how reusable code can be built into new packages to help make it easier to use.\n",
    "\n",
    "There is too much to go over everything in these amazing packages, so articles on the basics and the core documentation is linked below:\n",
    "\n",
    "### Pandas\n",
    "Pandas is not part of the standard library, but it is part of Anaconda, which is the version of Python we have installed.\n",
    "\n",
    "Pandas core documentation and home site: https://pandas.pydata.org/\n",
    "\n",
    "Introduction article to Pandas: https://towardsdatascience.com/a-quick-introduction-to-the-pandas-python-library-f1b678f34673\n",
    "\n",
    "Introduction video on Pandas: https://www.youtube.com/watch?v=dcqPhpY7tWk\n",
    "\n",
    "### Regular Expressions (re)\n",
    "re is part of the standard library in Python. \n",
    "\n",
    "re core documentation - https://docs.python.org/3/howto/regex.html   https://docs.python.org/3/library/re.html\n",
    "\n",
    "regular expressions introduction - https://realpython.com/regex-python/\n"
   ]
  },
  {
   "cell_type": "markdown",
   "metadata": {},
   "source": [
    "# Exercises\n",
    "\n",
    "## Exercise 1 - Selecting Cells in a Data Frame\n",
    "Use the below generated data frame to print the item number and corresponding unit price for each. Notice the first line, we initialize pandas as the keyword pd. This is to bring in the pandas code for us to use and rename it to a shorter name, reducing keystrokes."
   ]
  },
  {
   "cell_type": "code",
   "execution_count": 1,
   "metadata": {},
   "outputs": [
    {
     "data": {
      "text/html": [
       "<div>\n",
       "<style scoped>\n",
       "    .dataframe tbody tr th:only-of-type {\n",
       "        vertical-align: middle;\n",
       "    }\n",
       "\n",
       "    .dataframe tbody tr th {\n",
       "        vertical-align: top;\n",
       "    }\n",
       "\n",
       "    .dataframe thead th {\n",
       "        text-align: right;\n",
       "    }\n",
       "</style>\n",
       "<table border=\"1\" class=\"dataframe\">\n",
       "  <thead>\n",
       "    <tr style=\"text-align: right;\">\n",
       "      <th></th>\n",
       "      <th>Item_Number</th>\n",
       "      <th>Unit_Price</th>\n",
       "    </tr>\n",
       "  </thead>\n",
       "  <tbody>\n",
       "    <tr>\n",
       "      <th>0</th>\n",
       "      <td>SKU0012</td>\n",
       "      <td>$12.95</td>\n",
       "    </tr>\n",
       "    <tr>\n",
       "      <th>1</th>\n",
       "      <td>SKU0096</td>\n",
       "      <td>$199.95</td>\n",
       "    </tr>\n",
       "    <tr>\n",
       "      <th>2</th>\n",
       "      <td>SKU1019</td>\n",
       "      <td>$4.95</td>\n",
       "    </tr>\n",
       "    <tr>\n",
       "      <th>3</th>\n",
       "      <td>SKU1012</td>\n",
       "      <td>$1,425.00</td>\n",
       "    </tr>\n",
       "  </tbody>\n",
       "</table>\n",
       "</div>"
      ],
      "text/plain": [
       "  Item_Number Unit_Price\n",
       "0     SKU0012     $12.95\n",
       "1     SKU0096    $199.95\n",
       "2     SKU1019      $4.95\n",
       "3     SKU1012  $1,425.00"
      ]
     },
     "execution_count": 1,
     "metadata": {},
     "output_type": "execute_result"
    }
   ],
   "source": [
    "import pandas as pd\n",
    "\n",
    "raw_data = [['SKU0012', '$12.95'], ['SKU0096', '$199.95'], ['SKU1019', '$4.95'], ['SKU1012', '$1,425.00']]\n",
    "\n",
    "item_df = pd.DataFrame(raw_data, columns = ['Item_Number', 'Unit_Price'])\n",
    "item_df"
   ]
  },
  {
   "cell_type": "code",
   "execution_count": 2,
   "metadata": {},
   "outputs": [
    {
     "name": "stdout",
     "output_type": "stream",
     "text": [
      "SKU0012 unit price is $12.95\n"
     ]
    }
   ],
   "source": [
    "#example:\n",
    "print(item_df['Item_Number'][0], 'unit price is', item_df['Unit_Price'][0])"
   ]
  },
  {
   "cell_type": "code",
   "execution_count": 3,
   "metadata": {},
   "outputs": [
    {
     "name": "stdout",
     "output_type": "stream",
     "text": [
      "0\n",
      "1\n",
      "2\n",
      "3\n"
     ]
    }
   ],
   "source": [
    "# create code to print each line individually\n",
    "for i in range(len(item_df.index)):\n",
    "    print(i)"
   ]
  },
  {
   "cell_type": "code",
   "execution_count": 4,
   "metadata": {},
   "outputs": [
    {
     "name": "stdout",
     "output_type": "stream",
     "text": [
      "SKU0012 unit price is $12.95\n",
      "SKU0096 unit price is $199.95\n",
      "SKU1019 unit price is $4.95\n",
      "SKU1012 unit price is $1,425.00\n",
      "SKU0012 unit price is $12.95\n",
      "SKU0096 unit price is $199.95\n",
      "SKU1019 unit price is $4.95\n",
      "SKU1012 unit price is $1,425.00\n",
      "SKU0012 unit price is $12.95\n",
      "SKU0096 unit price is $199.95\n",
      "SKU1019 unit price is $4.95\n",
      "SKU1012 unit price is $1,425.00\n",
      "SKU0012 unit price is $12.95\n",
      "SKU0096 unit price is $199.95\n",
      "SKU1019 unit price is $4.95\n",
      "SKU1012 unit price is $1,425.00\n"
     ]
    }
   ],
   "source": [
    "for i in range(len(item_df.index)):\n",
    "    print(item_df['Item_Number'][0], 'unit price is', item_df['Unit_Price'][0])\n",
    "    print(item_df['Item_Number'][1], 'unit price is', item_df['Unit_Price'][1])\n",
    "    print(item_df['Item_Number'][2], 'unit price is', item_df['Unit_Price'][2])\n",
    "    print(item_df['Item_Number'][3], 'unit price is', item_df['Unit_Price'][3])"
   ]
  },
  {
   "cell_type": "code",
   "execution_count": 5,
   "metadata": {},
   "outputs": [
    {
     "name": "stdout",
     "output_type": "stream",
     "text": [
      "SKU0012 unit price is $12.95\n",
      "SKU0096 unit price is $199.95\n",
      "SKU1019 unit price is $4.95\n",
      "SKU1012 unit price is $1,425.00\n"
     ]
    }
   ],
   "source": [
    "    print(item_df['Item_Number'][0], 'unit price is', item_df['Unit_Price'][0])\n",
    "    print(item_df['Item_Number'][1], 'unit price is', item_df['Unit_Price'][1])\n",
    "    print(item_df['Item_Number'][2], 'unit price is', item_df['Unit_Price'][2])\n",
    "    print(item_df['Item_Number'][3], 'unit price is', item_df['Unit_Price'][3])"
   ]
  },
  {
   "cell_type": "markdown",
   "metadata": {},
   "source": [
    "## Exercise 2 - Cleaning text and joining two Data Frames\n",
    "Below is a second data frame that represents an order of these items. There are a few issues you need to deal with in this exercise:\n",
    "* format the Item Number in the order data frame to match the item data frame\n",
    "* join the data together to match the quantity and unit price\n",
    "* transform the text field Unit_Price to a number to calculate the total amount\n",
    "* create a new column (series) calculating the total amount\n",
    "* Print the grand total of the order by summing the new calculated totals\n"
   ]
  },
  {
   "cell_type": "code",
   "execution_count": 6,
   "metadata": {},
   "outputs": [
    {
     "data": {
      "text/html": [
       "<div>\n",
       "<style scoped>\n",
       "    .dataframe tbody tr th:only-of-type {\n",
       "        vertical-align: middle;\n",
       "    }\n",
       "\n",
       "    .dataframe tbody tr th {\n",
       "        vertical-align: top;\n",
       "    }\n",
       "\n",
       "    .dataframe thead th {\n",
       "        text-align: right;\n",
       "    }\n",
       "</style>\n",
       "<table border=\"1\" class=\"dataframe\">\n",
       "  <thead>\n",
       "    <tr style=\"text-align: right;\">\n",
       "      <th></th>\n",
       "      <th>Item_Number</th>\n",
       "      <th>Quantity</th>\n",
       "    </tr>\n",
       "  </thead>\n",
       "  <tbody>\n",
       "    <tr>\n",
       "      <th>0</th>\n",
       "      <td>12</td>\n",
       "      <td>5</td>\n",
       "    </tr>\n",
       "    <tr>\n",
       "      <th>1</th>\n",
       "      <td>96</td>\n",
       "      <td>9</td>\n",
       "    </tr>\n",
       "    <tr>\n",
       "      <th>2</th>\n",
       "      <td>1019</td>\n",
       "      <td>200</td>\n",
       "    </tr>\n",
       "  </tbody>\n",
       "</table>\n",
       "</div>"
      ],
      "text/plain": [
       "   Item_Number  Quantity\n",
       "0           12         5\n",
       "1           96         9\n",
       "2         1019       200"
      ]
     },
     "execution_count": 6,
     "metadata": {},
     "output_type": "execute_result"
    }
   ],
   "source": [
    "order_data = [[12, 5], [96, 9], [1019, 200]]\n",
    "\n",
    "#error on my part\n",
    "order_data = pd.DataFrame(order_data, columns = ['Item_Number', 'Quantity'])\n",
    "order_data"
   ]
  },
  {
   "cell_type": "code",
   "execution_count": 7,
   "metadata": {},
   "outputs": [],
   "source": [
    "# create code to complete the steps listed above\n",
    "#      hint: look up the function .zfill() to help with the missing zeros\n",
    "#      hint: look up .join() to combine the data\n",
    "#      hint: mapping with regular expressions can help with converting unit price\n",
    "\n",
    "\n",
    "# format the Item Number in the order data frame to match the item data frame\n"
   ]
  },
  {
   "cell_type": "code",
   "execution_count": 8,
   "metadata": {},
   "outputs": [
    {
     "data": {
      "text/plain": [
       "'SKU0012'"
      ]
     },
     "execution_count": 8,
     "metadata": {},
     "output_type": "execute_result"
    }
   ],
   "source": [
    "'SKU'+'12'.zfill(4)"
   ]
  },
  {
   "cell_type": "code",
   "execution_count": 9,
   "metadata": {},
   "outputs": [
    {
     "data": {
      "text/plain": [
       "12.95"
      ]
     },
     "execution_count": 9,
     "metadata": {},
     "output_type": "execute_result"
    }
   ],
   "source": [
    "#Backslash \\ bc in RegEx $ is a specific thing\n",
    "import re\n",
    "x = re.sub(\"\\$\", \"\", '$12.95')\n",
    "float(x)"
   ]
  },
  {
   "cell_type": "code",
   "execution_count": 10,
   "metadata": {
    "scrolled": true
   },
   "outputs": [
    {
     "ename": "ValueError",
     "evalue": "could not convert string to float: '$12.95'",
     "output_type": "error",
     "traceback": [
      "\u001b[1;31m---------------------------------------------------------------------------\u001b[0m",
      "\u001b[1;31mValueError\u001b[0m                                Traceback (most recent call last)",
      "\u001b[1;32m<ipython-input-10-e1f70687a2b7>\u001b[0m in \u001b[0;36m<module>\u001b[1;34m\u001b[0m\n\u001b[1;32m----> 1\u001b[1;33m \u001b[0mfloat\u001b[0m\u001b[1;33m(\u001b[0m\u001b[1;34m'$12.95'\u001b[0m\u001b[1;33m)\u001b[0m\u001b[1;33m\u001b[0m\u001b[1;33m\u001b[0m\u001b[0m\n\u001b[0m\u001b[0;32m      2\u001b[0m \u001b[1;34m'$12.95'\u001b[0m\u001b[1;33m\u001b[0m\u001b[1;33m\u001b[0m\u001b[0m\n",
      "\u001b[1;31mValueError\u001b[0m: could not convert string to float: '$12.95'"
     ]
    }
   ],
   "source": [
    "float('$12.95')\n",
    "'$12.95'"
   ]
  },
  {
   "cell_type": "code",
   "execution_count": null,
   "metadata": {},
   "outputs": [],
   "source": [
    "#Change your values"
   ]
  },
  {
   "cell_type": "code",
   "execution_count": null,
   "metadata": {},
   "outputs": [],
   "source": [
    "# join the data together to match the quantity and unit price"
   ]
  },
  {
   "cell_type": "code",
   "execution_count": null,
   "metadata": {},
   "outputs": [],
   "source": []
  },
  {
   "cell_type": "code",
   "execution_count": null,
   "metadata": {},
   "outputs": [],
   "source": [
    "#Change name instead of rewriting over\n"
   ]
  },
  {
   "cell_type": "code",
   "execution_count": null,
   "metadata": {},
   "outputs": [],
   "source": []
  },
  {
   "cell_type": "code",
   "execution_count": null,
   "metadata": {},
   "outputs": [],
   "source": []
  },
  {
   "cell_type": "code",
   "execution_count": null,
   "metadata": {},
   "outputs": [],
   "source": []
  },
  {
   "cell_type": "code",
   "execution_count": 60,
   "metadata": {},
   "outputs": [],
   "source": [
    "# transform the text field Unit_Price to a number to calculate the total amount"
   ]
  },
  {
   "cell_type": "code",
   "execution_count": null,
   "metadata": {},
   "outputs": [],
   "source": []
  },
  {
   "cell_type": "code",
   "execution_count": null,
   "metadata": {},
   "outputs": [],
   "source": [
    "# create a new column (series) calculating the total amount\n"
   ]
  },
  {
   "cell_type": "code",
   "execution_count": null,
   "metadata": {},
   "outputs": [],
   "source": [
    "#  Print the grand total of the order by summing the new calculated totals\n"
   ]
  },
  {
   "cell_type": "code",
   "execution_count": null,
   "metadata": {},
   "outputs": [],
   "source": []
  },
  {
   "cell_type": "code",
   "execution_count": null,
   "metadata": {},
   "outputs": [],
   "source": [
    "#error on my part\n"
   ]
  },
  {
   "cell_type": "code",
   "execution_count": 62,
   "metadata": {},
   "outputs": [
    {
     "data": {
      "text/html": [
       "<div>\n",
       "<style scoped>\n",
       "    .dataframe tbody tr th:only-of-type {\n",
       "        vertical-align: middle;\n",
       "    }\n",
       "\n",
       "    .dataframe tbody tr th {\n",
       "        vertical-align: top;\n",
       "    }\n",
       "\n",
       "    .dataframe thead th {\n",
       "        text-align: right;\n",
       "    }\n",
       "</style>\n",
       "<table border=\"1\" class=\"dataframe\">\n",
       "  <thead>\n",
       "    <tr style=\"text-align: right;\">\n",
       "      <th></th>\n",
       "      <th>Item_Number</th>\n",
       "      <th>Unit_Price</th>\n",
       "      <th>Quantity</th>\n",
       "      <th>Total Amount</th>\n",
       "    </tr>\n",
       "  </thead>\n",
       "  <tbody>\n",
       "    <tr>\n",
       "      <th>0</th>\n",
       "      <td>SKU0012</td>\n",
       "      <td>12.95</td>\n",
       "      <td>5</td>\n",
       "      <td>64.75</td>\n",
       "    </tr>\n",
       "    <tr>\n",
       "      <th>1</th>\n",
       "      <td>SKU0096</td>\n",
       "      <td>199.95</td>\n",
       "      <td>9</td>\n",
       "      <td>1799.55</td>\n",
       "    </tr>\n",
       "    <tr>\n",
       "      <th>2</th>\n",
       "      <td>SKU1019</td>\n",
       "      <td>4.95</td>\n",
       "      <td>200</td>\n",
       "      <td>990.00</td>\n",
       "    </tr>\n",
       "    <tr>\n",
       "      <th>3</th>\n",
       "      <td>SKU1012</td>\n",
       "      <td>1425.00</td>\n",
       "      <td>5</td>\n",
       "      <td>7125.00</td>\n",
       "    </tr>\n",
       "  </tbody>\n",
       "</table>\n",
       "</div>"
      ],
      "text/plain": [
       "  Item_Number  Unit_Price  Quantity  Total Amount\n",
       "0     SKU0012       12.95         5         64.75\n",
       "1     SKU0096      199.95         9       1799.55\n",
       "2     SKU1019        4.95       200        990.00\n",
       "3     SKU1012     1425.00         5       7125.00"
      ]
     },
     "execution_count": 62,
     "metadata": {},
     "output_type": "execute_result"
    }
   ],
   "source": [
    "import pandas as pd\n",
    "\n",
    "raw_data = raw_data = [['SKU0012', float(12.95)], ['SKU0096', float(199.95)], ['SKU1019', float(4.95)], ['SKU1012',float(1425.00)]]\n",
    "\n",
    "\n",
    "df1 = pd.DataFrame(raw_data, columns = ['Item_Number', 'Unit_Price'])\n",
    "df1\n",
    "\n",
    "raw_data2 = ['SKU'+'12'.zfill(4), 5], ['SKU'+'96'.zfill(4), 9], ['SKU'+'1019'.zfill(4), 200], ['SKU'+'1012'.zfill(4), 5]\n",
    "df2 = pd.DataFrame(raw_data2, columns = ['Item_Number', 'Quantity'])\n",
    "\n",
    "\n",
    "merge_data = pd.merge(df1, df2)\n",
    "merge_data\n",
    "\n",
    "total_amount = merge_data['Unit_Price']* merge_data['Quantity']\n",
    "merge_data['Total Amount'] = total_amount\n",
    "merge_data"
   ]
  },
  {
   "cell_type": "code",
   "execution_count": 55,
   "metadata": {},
   "outputs": [
    {
     "name": "stdout",
     "output_type": "stream",
     "text": [
      "Item_Number     SKU0012SKU0096SKU1019SKU1012\n",
      "Unit_Price                           1642.85\n",
      "Quantity                                 219\n",
      "Total Amount                          9979.3\n",
      "dtype: object\n"
     ]
    }
   ],
   "source": [
    "grand_total = print(merge_data.sum(axis=0))"
   ]
  },
  {
   "cell_type": "code",
   "execution_count": null,
   "metadata": {},
   "outputs": [],
   "source": []
  },
  {
   "cell_type": "code",
   "execution_count": null,
   "metadata": {},
   "outputs": [],
   "source": []
  }
 ],
 "metadata": {
  "kernelspec": {
   "display_name": "Python 3",
   "language": "python",
   "name": "python3"
  },
  "language_info": {
   "codemirror_mode": {
    "name": "ipython",
    "version": 3
   },
   "file_extension": ".py",
   "mimetype": "text/x-python",
   "name": "python",
   "nbconvert_exporter": "python",
   "pygments_lexer": "ipython3",
   "version": "3.8.5"
  }
 },
 "nbformat": 4,
 "nbformat_minor": 4
}
